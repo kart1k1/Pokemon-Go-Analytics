{
 "cells": [
  {
   "cell_type": "code",
   "execution_count": 19,
   "metadata": {
    "collapsed": false
   },
   "outputs": [],
   "source": [
    "from urllib2 import urlopen"
   ]
  },
  {
   "cell_type": "code",
   "execution_count": 126,
   "metadata": {
    "collapsed": false
   },
   "outputs": [],
   "source": [
    "from bs4 import BeautifulSoup\n",
    "import urllib\n",
    "links_outer=[]\n",
    "for m in range(7,11,1):\n",
    "    a='file:///D:/studying%20now/INSY%205378/Project-2/data/2016-{:02d}-21/00_00_pokemon_android.html'.format(m)\n",
    "    #print a\n",
    "    r = urlopen(a).read()\n",
    "    #print r\n",
    "    soup = BeautifulSoup(r, \"lxml\")\n",
    "    #print(soup)\n",
    "    raw_links = soup.find(\"div\", {\"class\": \"thumbnails-wrapper\"}) # find first \n",
    "    #print('HTML source')\n",
    "    #print('_'*30)\n",
    "    #print(raw_links)\n",
    "    #print('_'*30)\n",
    "    img_alt = raw_links.findAll(\"img\")\n",
    "    links=[]\n",
    "    #print links\n",
    "    for image in img_alt:\n",
    "        links.append(image.get('src'))\n",
    "    #print links\n",
    "    links_outer.append(links)\n"
   ]
  },
  {
   "cell_type": "code",
   "execution_count": 128,
   "metadata": {
    "collapsed": false
   },
   "outputs": [],
   "source": [
    "links_outer_ios=[]\n",
    "for m in range(7,11,1):\n",
    "    a='file:///D:/studying%20now/INSY%205378/Project-2/data/2016-{:02d}-21/00_00_pokemon_ios.html'.format(m)\n",
    "    #print a\n",
    "    r = urlopen(a).read()\n",
    "    #print r\n",
    "    soup = BeautifulSoup(r, \"lxml\")\n",
    "    #print(soup)\n",
    "    raw_links = soup.find(\"div\", {\"class\": \"toggle\"}) # find first \n",
    "    #print('HTML source')\n",
    "    #print('_'*30)\n",
    "    #print(raw_links)\n",
    "    #print('_'*30)\n",
    "    img_alt = raw_links.findAll(\"img\")\n",
    "    links=[]\n",
    "    #print links\n",
    "    for image in img_alt:\n",
    "        links.append(image.get('src'))\n",
    "    #print links\n",
    "    links_outer_ios.append(links)"
   ]
  },
  {
   "cell_type": "code",
   "execution_count": 131,
   "metadata": {
    "collapsed": false
   },
   "outputs": [
    {
     "name": "stdout",
     "output_type": "stream",
     "text": [
      "['http://a3.mzstatic.com/us/r30/Purple30/v4/4c/8d/0a/4c8d0a13-c73b-2972-b37d-3601de8bdef5/sc1024x768.jpeg', 'http://a2.mzstatic.com/us/r30/Purple18/v4/12/1f/5b/121f5bb3-f00a-13e2-6ce8-ccc9bdb96cc9/screen696x696.jpeg', 'http://a5.mzstatic.com/us/r30/Purple30/v4/ef/1d/b1/ef1db155-870f-cd2d-f93b-2728741a0168/screen696x696.jpeg', 'http://a4.mzstatic.com/us/r30/Purple20/v4/b2/aa/a1/b2aaa1a3-e66a-745c-cd57-48b527290c48/screen696x696.jpeg', 'http://a4.mzstatic.com/us/r30/Purple60/v4/bc/08/db/bc08dbd0-3ccf-70b8-5f8f-3f76cc4b7b31/screen322x572.jpeg', '//lh3.googleusercontent.com/J8kUfrUigeTuBZYHVp5XRKlxmOaOl5g1oXT6EFdVon8xYPoUvkW1N_e05O7-hnqk7UQ=h310', 'http://a2.mzstatic.com/us/r30/Purple60/v4/a6/d9/e4/a6d9e449-e9ca-dba0-99c8-09bb5d8fa3c3/screen480x480.jpeg', 'http://a3.mzstatic.com/us/r30/Purple60/v4/65/4e/b6/654eb6d4-96ba-351d-8be5-a0a267f7e9ed/sc1024x768.jpeg', '//lh3.googleusercontent.com/S97uuMKpsZXzQ70_lf-535aUHwN3pw98veYbHR0CduoNCD7nt9QuBqTPXrk916mNwnJ1=h310', '//lh3.googleusercontent.com/dq_t7Is81-gkHYxKfAQ7PuLQBR-Qrte-7S1DsKFZnhaZATpibMSiw3aCrJzYik1x3IV5=h310', 'http://a3.mzstatic.com/us/r30/Purple20/v4/90/87/61/908761f2-9f46-4a88-26e1-e79790eebcfb/screen322x572.jpeg', 'http://a2.mzstatic.com/us/r30/Purple60/v4/c7/c6/00/c7c60057-6358-33c1-cb00-707bef81883c/screen696x696.jpeg', '//lh3.googleusercontent.com/22ySaopy8gQQelxKpUMUP56i9kAhnoONR4RmjEZ1AyvWqbO-ae_kO8Hi1zIqBfqNjFk=h310', 'http://a2.mzstatic.com/us/r30/Purple20/v4/b0/97/2e/b0972e89-068f-fb49-0f73-25c94f118765/screen322x572.jpeg', 'http://a3.mzstatic.com/us/r30/Purple30/v4/40/4b/6a/404b6a60-1563-df95-f90c-3f0c8093e55a/sc1024x768.jpeg', 'http://a1.mzstatic.com/us/r30/Purple18/v4/20/b8/51/20b851a8-9c3a-0659-e20d-804c9150ac96/screen322x572.jpeg', 'http://a5.mzstatic.com/us/r30/Purple60/v4/24/67/26/24672654-14d4-1dd0-57e6-9804f74a9303/sc1024x768.jpeg', '//lh3.googleusercontent.com/UJsqbNSI3dFLNeVw0qGYdDNz3uvzrKOw9r0DHQ0KZigwrKfFyiLSFjSTkI_DBdYz2yt-=h310', 'http://a2.mzstatic.com/us/r30/Purple18/v4/07/6e/dc/076edcea-e44e-6c6c-f136-7048ce01cf4e/screen696x696.jpeg', 'http://a3.mzstatic.com/us/r30/Purple18/v4/f1/bd/c9/f1bdc989-acb2-b76a-5922-c5d044f2b59c/screen480x480.jpeg', 'http://a4.mzstatic.com/us/r30/Purple20/v4/7c/6f/35/7c6f3593-2ef1-838b-4a83-253e1da2e2cb/sc1024x768.jpeg', 'http://a1.mzstatic.com/us/r30/Purple20/v4/9e/5f/33/9e5f3303-8649-e870-51a2-e20650865a28/screen322x572.jpeg']\n"
     ]
    }
   ],
   "source": [
    "one_set=set()\n",
    "for i in range(len(links_outer_ios)):\n",
    "    for j in range(len(links_outer_ios[i])):\n",
    "        one_set.add(links_outer_ios[i][j])\n",
    "for i in range(len(links_outer)):\n",
    "    for j in range(len(links_outer[i])):\n",
    "        one_set.add(links_outer[i][j])\n",
    "one_list=list(one_set)\n",
    "print (one_list)"
   ]
  },
  {
   "cell_type": "code",
   "execution_count": 134,
   "metadata": {
    "collapsed": false
   },
   "outputs": [],
   "source": [
    "import random\n",
    "import urllib\n",
    "\n",
    "#print type(one_list[1])\n",
    "\n",
    "def download_image(url,i):\n",
    "    name=i\n",
    "    full_name=str(name)+\".jpg\"\n",
    "    urllib.urlretrieve(url,full_name)\n",
    "for i in range(len(one_list)):\n",
    "    if one_list[i][:4]=='http':\n",
    "        download_image(one_list[i],i)\n",
    "    else:\n",
    "        download_image(\"https:\"+one_list[i],i)\n",
    "        "
   ]
  },
  {
   "cell_type": "code",
   "execution_count": 6,
   "metadata": {
    "collapsed": false
   },
   "outputs": [
    {
     "name": "stdout",
     "output_type": "stream",
     "text": [
      "Requirement already satisfied (use --upgrade to upgrade): pillow in c:\\users\\vidya\\anaconda2\\lib\\site-packages\n"
     ]
    },
    {
     "name": "stderr",
     "output_type": "stream",
     "text": [
      "You are using pip version 8.1.2, however version 9.0.1 is available.\n",
      "You should consider upgrading via the 'python -m pip install --upgrade pip' command.\n"
     ]
    }
   ],
   "source": [
    "!pip install pillow"
   ]
  },
  {
   "cell_type": "code",
   "execution_count": 9,
   "metadata": {
    "collapsed": false
   },
   "outputs": [
    {
     "name": "stdout",
     "output_type": "stream",
     "text": [
      "Requirement already satisfied (use --upgrade to upgrade): beautifulsoup4 in c:\\users\\vidya\\anaconda2\\lib\\site-packages\n"
     ]
    },
    {
     "name": "stderr",
     "output_type": "stream",
     "text": [
      "You are using pip version 8.1.2, however version 9.0.1 is available.\n",
      "You should consider upgrading via the 'python -m pip install --upgrade pip' command.\n"
     ]
    }
   ],
   "source": [
    "!pip install beautifulsoup4"
   ]
  },
  {
   "cell_type": "code",
   "execution_count": null,
   "metadata": {
    "collapsed": true
   },
   "outputs": [],
   "source": []
  }
 ],
 "metadata": {
  "anaconda-cloud": {},
  "kernelspec": {
   "display_name": "Python [default]",
   "language": "python",
   "name": "python2"
  },
  "language_info": {
   "codemirror_mode": {
    "name": "ipython",
    "version": 2
   },
   "file_extension": ".py",
   "mimetype": "text/x-python",
   "name": "python",
   "nbconvert_exporter": "python",
   "pygments_lexer": "ipython2",
   "version": "2.7.12"
  }
 },
 "nbformat": 4,
 "nbformat_minor": 1
}
